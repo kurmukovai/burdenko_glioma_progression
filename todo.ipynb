{
 "cells": [
  {
   "cell_type": "markdown",
   "id": "5855c459",
   "metadata": {},
   "source": [
    "1. convert_images_to_nifti.py --subjects [list of subjects comma separated] --visits [baseline, all] --modality [T1, T1C, FLAIR, T2, CT, all]\n",
    "defaults are all subjects, only baseline visit, all modalities, recall that --modality \"all\" will include unknown MR sequences (for which we were unable to recognize the exact sequence)\n",
    "\n",
    "2. convert_mask_to_nifti.py --subjects [list of subjects comma separated] \n",
    "converts masks to nifti\n",
    "\n",
    "3. rigid_reg_baseline.py \n",
    "rigidly register baseline MRIs to CT"
   ]
  },
  {
   "cell_type": "markdown",
   "id": "6e5b2f3c",
   "metadata": {},
   "source": [
    "- patient_id\n",
    "- study_date\n",
    "- visit_number"
   ]
  },
  {
   "cell_type": "code",
   "execution_count": null,
   "id": "9b586a84",
   "metadata": {},
   "outputs": [],
   "source": [
    "import pandas as pd"
   ]
  },
  {
   "cell_type": "code",
   "execution_count": null,
   "id": "40ac0899",
   "metadata": {},
   "outputs": [],
   "source": [
    "df = pd.read_csv('/anvar/private_datasets/anvar_work/Burdenko-TCIA/manifest-1676999639835/meta.csv')"
   ]
  },
  {
   "cell_type": "code",
   "execution_count": null,
   "id": "b7434296",
   "metadata": {},
   "outputs": [],
   "source": [
    "df.Modality.value_counts()"
   ]
  },
  {
   "cell_type": "code",
   "execution_count": null,
   "id": "e6d39bf7",
   "metadata": {},
   "outputs": [],
   "source": [
    "df.SeriesDescription.value_counts()"
   ]
  },
  {
   "cell_type": "code",
   "execution_count": null,
   "id": "f18f155f",
   "metadata": {},
   "outputs": [],
   "source": [
    "df[df.PathToFolder.apply(lambda x: 'Radiotherapy' in x)].Modality.value_counts()"
   ]
  },
  {
   "cell_type": "code",
   "execution_count": null,
   "id": "9c43ae1a",
   "metadata": {},
   "outputs": [],
   "source": [
    "from pydicom import dcmread\n",
    "from dicom_csv import join_tree, order_series, stack_images \n",
    "from pathlib import Path"
   ]
  },
  {
   "cell_type": "code",
   "execution_count": null,
   "id": "7e4a6b7c",
   "metadata": {},
   "outputs": [],
   "source": [
    "folder = Path('/anvar/private_datasets/anvar_work/Burdenko-TCIA/manifest-1676999639835/Burdenko-GBM-Progression/Burdenko-GBM-001/03-02-2006-NA-Control visit 2-75777/400.000000-MR0T2FLAIR-39997')\n",
    "\n",
    "# 3. Read files & combine them into a single volume\n",
    "images2d = [dcmread(file) for file in folder.glob('*')] \n",
    "image3d = stack_images(order_series(images2d))"
   ]
  },
  {
   "cell_type": "code",
   "execution_count": null,
   "id": "d970e4a0",
   "metadata": {},
   "outputs": [],
   "source": [
    "patient_id = images2d[0].PatientID\n",
    "uid = images2d[0].SeriesInstanceUID\n",
    "modality = images2d[0].SeriesDescription"
   ]
  },
  {
   "cell_type": "code",
   "execution_count": null,
   "id": "486b61dd",
   "metadata": {},
   "outputs": [],
   "source": []
  }
 ],
 "metadata": {
  "kernelspec": {
   "display_name": "Python 3 (ipykernel)",
   "language": "python",
   "name": "python3"
  },
  "language_info": {
   "codemirror_mode": {
    "name": "ipython",
    "version": 3
   },
   "file_extension": ".py",
   "mimetype": "text/x-python",
   "name": "python",
   "nbconvert_exporter": "python",
   "pygments_lexer": "ipython3",
   "version": "3.11.3"
  }
 },
 "nbformat": 4,
 "nbformat_minor": 5
}
