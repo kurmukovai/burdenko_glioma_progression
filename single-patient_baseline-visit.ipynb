{
 "cells": [
  {
   "cell_type": "code",
   "execution_count": 1,
   "id": "67d6377f",
   "metadata": {},
   "outputs": [],
   "source": [
    "from dicom_csv import join_tree\n",
    "from pydicom import dcmread\n",
    "from pathlib import Path"
   ]
  },
  {
   "cell_type": "code",
   "execution_count": null,
   "id": "777b45a9",
   "metadata": {},
   "outputs": [],
   "source": [
    "237646it "
   ]
  },
  {
   "cell_type": "code",
   "execution_count": null,
   "id": "f39c2079",
   "metadata": {},
   "outputs": [
    {
     "name": "stderr",
     "output_type": "stream",
     "text": [
      "237646it [1:20:28, 43.62it/s] "
     ]
    }
   ],
   "source": [
    "df_all = join_tree('/mount/attic/data/burdenko-tcia-test/', verbose=1, ignore_extensions=['.zip'])"
   ]
  },
  {
   "cell_type": "code",
   "execution_count": 8,
   "id": "d5aa5528",
   "metadata": {},
   "outputs": [
    {
     "data": {
      "text/plain": [
       "(344003, 324)"
      ]
     },
     "execution_count": 8,
     "metadata": {},
     "output_type": "execute_result"
    }
   ],
   "source": [
    "df_all.shape"
   ]
  },
  {
   "cell_type": "code",
   "execution_count": 9,
   "id": "2fa3d5e3",
   "metadata": {},
   "outputs": [],
   "source": [
    "# df_all.to_csv('/mount/attic/data/burdenko-tcia-test/meta.csv')"
   ]
  },
  {
   "cell_type": "code",
   "execution_count": 2,
   "id": "ad6f2b36",
   "metadata": {
    "scrolled": true
   },
   "outputs": [
    {
     "name": "stderr",
     "output_type": "stream",
     "text": [
      "687it [00:02, 274.07it/s]\n"
     ]
    }
   ],
   "source": [
    "subject_folder = Path('/mount/attic/data/burdenko-tcia-test/Burdenko-GBM-001/05-06-2004-NA-Radiotherapy planning 00-01357')\n",
    "df = join_tree(subject_folder, verbose=1)"
   ]
  },
  {
   "cell_type": "code",
   "execution_count": 4,
   "id": "f6f55d97",
   "metadata": {},
   "outputs": [
    {
     "data": {
      "text/plain": [
       "MR          484\n",
       "CT          198\n",
       "RTSTRUCT      3\n",
       "RTDOSE        1\n",
       "RTPLAN        1\n",
       "Name: Modality, dtype: int64"
      ]
     },
     "execution_count": 4,
     "metadata": {},
     "output_type": "execute_result"
    }
   ],
   "source": [
    "df.Modality.value_counts()"
   ]
  },
  {
   "cell_type": "code",
   "execution_count": 5,
   "id": "9fdb5704",
   "metadata": {},
   "outputs": [],
   "source": [
    "def get_series_instance_uid(rtstruct_path: [str, Path]):\n",
    "    \"\"\"Get SeriesInstanceUID of a reference image of input RTSTRUCT.\"\"\"\n",
    "    dicom = dcmread(rtstruct_path)\n",
    "    return dicom.ReferencedFrameOfReferenceSequence[0]\\\n",
    "                .RTReferencedStudySequence[0]\\\n",
    "                .RTReferencedSeriesSequence[0].SeriesInstanceUID\n",
    "\n",
    "# from burdenko_glioma_progression import get_series_instance_uid"
   ]
  },
  {
   "cell_type": "markdown",
   "id": "4d40c91c",
   "metadata": {},
   "source": [
    "1. Prepare images:\n",
    "    - Convert dicoms to nifti-s\n",
    "2. Prepare masks:\n",
    "    - Select corresponding image \n",
    "    - Extract contours from RTSTRUCTs\n",
    "    - Convert contours to masks\n",
    "    - Save masks as dicoms\n",
    "    - Convert masks to nifit-s\n",
    "3. (Optionally) Register (rigidly) all images to the same space"
   ]
  },
  {
   "cell_type": "markdown",
   "id": "39197c81",
   "metadata": {},
   "source": [
    "# 1. Prepare Images"
   ]
  },
  {
   "cell_type": "code",
   "execution_count": 4,
   "id": "fb402cc0",
   "metadata": {},
   "outputs": [],
   "source": [
    "from burdenko_glioma.nifti import dicom_to_nifti"
   ]
  },
  {
   "cell_type": "code",
   "execution_count": 5,
   "id": "4faa03de",
   "metadata": {},
   "outputs": [
    {
     "data": {
      "text/plain": [
       "Ellipsis"
      ]
     },
     "execution_count": 5,
     "metadata": {},
     "output_type": "execute_result"
    }
   ],
   "source": [
    "..."
   ]
  },
  {
   "cell_type": "code",
   "execution_count": null,
   "id": "611cea98",
   "metadata": {},
   "outputs": [],
   "source": []
  },
  {
   "cell_type": "markdown",
   "id": "1b917e4e",
   "metadata": {},
   "source": [
    "# 2. Prepare masks\n",
    "\n",
    "\n",
    "\n",
    "- Select corresponding image\n",
    "- Extract contours from RTSTRUCTs\n",
    "- Convert contours to masks\n",
    "- Save masks as dicoms\n",
    "- Convert masks to nifit-s\n"
   ]
  },
  {
   "cell_type": "markdown",
   "id": "72f9468e",
   "metadata": {},
   "source": [
    "### Select corresponding image\n",
    "\n",
    "For baseline studies sometimes we have multiple RTSTRUCTs as they were imported from the planning system.\n",
    "They will typically contain intersected set of ROIs, but correspond to different series within the study.\n",
    "\n",
    "We will use structures from the RTSTRUCT corresponding to the `CT study`."
   ]
  },
  {
   "cell_type": "code",
   "execution_count": 6,
   "id": "cdf6e5f6",
   "metadata": {},
   "outputs": [
    {
     "name": "stdout",
     "output_type": "stream",
     "text": [
      "1.3.6.1.4.1.14519.5.2.1.222790934420370886390186339781673290484\n",
      "1.3.6.1.4.1.14519.5.2.1.312435035079316311979018226338735661578\n",
      "1.3.6.1.4.1.14519.5.2.1.20417500794672593138065669875767558964\n"
     ]
    }
   ],
   "source": [
    "computed_tomography_uid = df[df.Modality == \"CT\"].SeriesInstanceUID.unique()[0]\n",
    "\n",
    "for _, row in df[df.Modality==\"RTSTRUCT\"][['PathToFolder','FileName']].iterrows():\n",
    "    rtstruct = dcmread(subject_folder / row.PathToFolder / row.FileName)\n",
    "    rtstruct_reference_uid = get_series_instance_uid(subject_folder / row.PathToFolder / row.FileName)\n",
    "    print(rtstruct_reference_uid)\n",
    "    if rtstruct_reference_uid == computed_tomography_uid:\n",
    "        break"
   ]
  },
  {
   "cell_type": "markdown",
   "id": "ddfe58df",
   "metadata": {},
   "source": [
    "### Extract contours from RTSTRUCTs\n",
    "\n",
    "First, we check which contours are contained in the RTSTRUCT"
   ]
  },
  {
   "cell_type": "code",
   "execution_count": 7,
   "id": "41a840d5",
   "metadata": {},
   "outputs": [],
   "source": [
    "from dicom_csv.rtstruct import get_contour_seq_name"
   ]
  },
  {
   "cell_type": "code",
   "execution_count": 8,
   "id": "a8135f54",
   "metadata": {},
   "outputs": [
    {
     "data": {
      "text/plain": [
       "['BODY',\n",
       " 'Brain',\n",
       " 'BrainStem',\n",
       " 'Chiasm',\n",
       " 'Eye_L',\n",
       " 'Eye_R',\n",
       " 'Lens_L',\n",
       " 'Lens_R',\n",
       " 'OpticNerve_L',\n",
       " 'OpticNerve_R',\n",
       " 'GTV_FLAIR',\n",
       " 'CTV_20 mm',\n",
       " 'PTV',\n",
       " 'Brain-PTV',\n",
       " 'FU_5_FLAIR',\n",
       " 'FU_5_CE',\n",
       " 'FU_4_FLAIR',\n",
       " 'FU_4_CE',\n",
       " 'FU_3_FLAIR',\n",
       " 'FU_3_CE',\n",
       " 'FU_2_FLAIR',\n",
       " 'FU_2_CE',\n",
       " 'FU_1_FLAIR',\n",
       " 'FU_1_CE']"
      ]
     },
     "execution_count": 8,
     "metadata": {},
     "output_type": "execute_result"
    }
   ],
   "source": [
    "list(get_contour_seq_name(rtstruct))"
   ]
  },
  {
   "cell_type": "markdown",
   "id": "4b690af3",
   "metadata": {},
   "source": [
    "This particular RTSTRUCT contains contours for the baseline visit, and also some contours for control visits (starting with `FU_` for \"follow up\")"
   ]
  },
  {
   "cell_type": "markdown",
   "id": "a3631619",
   "metadata": {},
   "source": [
    "Contours in RTSTRUCTs are stored in a form of coordinates in patient coordinate space, see https://dicom.innolitics.com/ciods/rt-structure-set/roi-contour/30060039/30060040/30060050 for details. Therefore we need to use a corresponding image (again, we will be using CT image)."
   ]
  },
  {
   "cell_type": "code",
   "execution_count": 9,
   "id": "fc5789ac",
   "metadata": {},
   "outputs": [],
   "source": [
    "# read CT series\n",
    "\n",
    "ct_series = [dcmread(subject_folder / ds.PathToFolder / ds.FileName) \\\n",
    "             for _,ds in df[df.SeriesInstanceUID == computed_tomography_uid].iterrows()]"
   ]
  },
  {
   "cell_type": "code",
   "execution_count": 28,
   "id": "3f01fad8",
   "metadata": {},
   "outputs": [
    {
     "data": {
      "text/plain": [
       "array(['1.3.6.1.4.1.14519.5.2.1.312435035079316311979018226338735661578',\n",
       "       '1.3.6.1.4.1.14519.5.2.1.263118267922629269364621298007167845066',\n",
       "       '1.3.6.1.4.1.14519.5.2.1.287411424933128087668330241991384428157',\n",
       "       '1.3.6.1.4.1.14519.5.2.1.222790934420370886390186339781673290484'],\n",
       "      dtype=object)"
      ]
     },
     "execution_count": 28,
     "metadata": {},
     "output_type": "execute_result"
    }
   ],
   "source": [
    "df.groupby('Modality')['SeriesInstanceUID'].unique()['MR']"
   ]
  },
  {
   "cell_type": "code",
   "execution_count": 30,
   "id": "75c8b010",
   "metadata": {},
   "outputs": [
    {
     "data": {
      "text/plain": [
       "(256, 256, 150)"
      ]
     },
     "execution_count": 30,
     "metadata": {},
     "output_type": "execute_result"
    }
   ],
   "source": [
    "mri_uid = '1.3.6.1.4.1.14519.5.2.1.312435035079316311979018226338735661578'\n",
    "\n",
    "mri_series = [dcmread(subject_folder / ds.PathToFolder / ds.FileName) \\\n",
    "             for _,ds in df[df.SeriesInstanceUID == mri_uid].iterrows()]\n",
    "\n",
    "image_mri = stack_images(order_series(mri_series))\n",
    "image_mri.shape"
   ]
  },
  {
   "cell_type": "code",
   "execution_count": null,
   "id": "591f0049",
   "metadata": {},
   "outputs": [],
   "source": [
    "ct_series = [dcmread(subject_folder / ds.PathToFolder / ds.FileName) \\\n",
    "             for _,ds in df[df.SeriesInstanceUID == computed_tomography_uid].iterrows()]"
   ]
  },
  {
   "cell_type": "code",
   "execution_count": 10,
   "id": "0d8ae09c",
   "metadata": {},
   "outputs": [],
   "source": [
    "from dicom_csv import  order_series, stack_images\n",
    "from dicom_csv.rtstruct import contours_to_image"
   ]
  },
  {
   "cell_type": "code",
   "execution_count": 11,
   "id": "f7c0a87f",
   "metadata": {},
   "outputs": [
    {
     "data": {
      "text/plain": [
       "198"
      ]
     },
     "execution_count": 11,
     "metadata": {},
     "output_type": "execute_result"
    }
   ],
   "source": [
    "len(ct_series)"
   ]
  },
  {
   "cell_type": "code",
   "execution_count": 12,
   "id": "97fa6595",
   "metadata": {},
   "outputs": [
    {
     "data": {
      "text/plain": [
       "(512, 512, 198)"
      ]
     },
     "execution_count": 12,
     "metadata": {},
     "output_type": "execute_result"
    }
   ],
   "source": [
    "image = stack_images(order_series(ct_series))\n",
    "image.shape"
   ]
  },
  {
   "cell_type": "code",
   "execution_count": 13,
   "id": "a010ee85",
   "metadata": {},
   "outputs": [],
   "source": [
    "contours = contours_to_image(ct_series, rtstruct)"
   ]
  },
  {
   "cell_type": "code",
   "execution_count": 14,
   "id": "b36fb539",
   "metadata": {},
   "outputs": [
    {
     "data": {
      "text/plain": [
       "dict_keys([('BODY', 0), ('Brain', 1), ('BrainStem', 2), ('Chiasm', 3), ('Eye_L', 4), ('Eye_R', 5), ('Lens_L', 6), ('Lens_R', 7), ('OpticNerve_L', 8), ('OpticNerve_R', 9), ('GTV_FLAIR', 10), ('CTV_20 mm', 11), ('PTV', 12), ('Brain-PTV', 13), ('FU_2_FLAIR', 20), ('FU_2_CE', 21), ('FU_1_FLAIR', 22), ('FU_1_CE', 23)])"
      ]
     },
     "execution_count": 14,
     "metadata": {},
     "output_type": "execute_result"
    }
   ],
   "source": [
    "contours.keys()"
   ]
  },
  {
   "cell_type": "markdown",
   "id": "bc07bded",
   "metadata": {},
   "source": [
    "### Convert contours to masks\n",
    "\n",
    "contours to mask is already implemented in `dicom_csv`, let's see the results for couple of contours"
   ]
  },
  {
   "cell_type": "code",
   "execution_count": 15,
   "id": "7a0b38a0",
   "metadata": {},
   "outputs": [],
   "source": [
    "body_mask = contours[('BODY', 0)].get_mask()\n",
    "brain_mask = contours[('Brain', 1)].get_mask()\n",
    "gtv_mask = contours[('GTV_FLAIR', 10)].get_mask()"
   ]
  },
  {
   "cell_type": "code",
   "execution_count": 16,
   "id": "16e3822e",
   "metadata": {},
   "outputs": [
    {
     "data": {
      "text/plain": [
       "((512, 512, 198), (512, 512, 198), (512, 512, 198))"
      ]
     },
     "execution_count": 16,
     "metadata": {},
     "output_type": "execute_result"
    }
   ],
   "source": [
    "body_mask.shape, brain_mask.shape, gtv_mask.shape"
   ]
  },
  {
   "cell_type": "markdown",
   "id": "99a69ed3",
   "metadata": {},
   "source": [
    "Recall, that masks have the same shape as CT image (as expected). Let's read the image assess how masks and image aligns."
   ]
  },
  {
   "cell_type": "code",
   "execution_count": 17,
   "id": "555eb481",
   "metadata": {},
   "outputs": [],
   "source": [
    "from dpipe.im.visualize import slice3d"
   ]
  },
  {
   "cell_type": "code",
   "execution_count": 18,
   "id": "d8a50679",
   "metadata": {},
   "outputs": [
    {
     "data": {
      "application/vnd.jupyter.widget-view+json": {
       "model_id": "7718048bd32e484c90e2986445d579de",
       "version_major": 2,
       "version_minor": 0
      },
      "text/plain": [
       "interactive(children=(IntSlider(value=0, continuous_update=False, description='idx', max=197), Output()), _dom…"
      ]
     },
     "metadata": {},
     "output_type": "display_data"
    }
   ],
   "source": [
    "slice3d(image, body_mask, brain_mask, gtv_mask)"
   ]
  },
  {
   "cell_type": "markdown",
   "id": "116c5518",
   "metadata": {},
   "source": [
    "We can clip CT images to a brain window, see https://radiopaedia.org/articles/windowing-ct?lang=gb for details"
   ]
  },
  {
   "cell_type": "code",
   "execution_count": 19,
   "id": "da787d40",
   "metadata": {},
   "outputs": [],
   "source": [
    "import numpy as np"
   ]
  },
  {
   "cell_type": "code",
   "execution_count": 20,
   "id": "e5fc53cf",
   "metadata": {},
   "outputs": [
    {
     "data": {
      "application/vnd.jupyter.widget-view+json": {
       "model_id": "5206615d273b43fd84bcea97fd4af433",
       "version_major": 2,
       "version_minor": 0
      },
      "text/plain": [
       "interactive(children=(IntSlider(value=0, continuous_update=False, description='idx', max=197), Output()), _dom…"
      ]
     },
     "metadata": {},
     "output_type": "display_data"
    }
   ],
   "source": [
    "slice3d(np.clip(image, 0, 80), body_mask, brain_mask, gtv_mask)"
   ]
  },
  {
   "cell_type": "markdown",
   "id": "57b9d622",
   "metadata": {},
   "source": [
    " CT image is not the best modality to check brain tumour, so we can check the correctness of the alignment by masks of the eyes. Recall, that left and right are vice versa on the image, since slices numeration are from the top of the head (0), to the bottom of the chin (n)."
   ]
  },
  {
   "cell_type": "code",
   "execution_count": 21,
   "id": "16171cea",
   "metadata": {},
   "outputs": [],
   "source": [
    "left_eye = contours[('Eye_L', 4)].get_mask()\n",
    "right_eye = contours[('Eye_R', 5)].get_mask()"
   ]
  },
  {
   "cell_type": "code",
   "execution_count": 22,
   "id": "afcbf833",
   "metadata": {},
   "outputs": [
    {
     "data": {
      "text/plain": [
       "(array([ 81,  82,  83,  84,  85,  86,  87,  88,  89,  90,  91,  92,  93,\n",
       "         94,  95,  96,  97,  98,  99, 100, 101]),)"
      ]
     },
     "execution_count": 22,
     "metadata": {},
     "output_type": "execute_result"
    }
   ],
   "source": [
    "# Check out slices from 81 to 101\n",
    "\n",
    "np.nonzero(left_eye.sum(axis=(0,1)))"
   ]
  },
  {
   "cell_type": "code",
   "execution_count": 23,
   "id": "141dec12",
   "metadata": {},
   "outputs": [
    {
     "data": {
      "application/vnd.jupyter.widget-view+json": {
       "model_id": "4022891030614af8b0e7d67bfa47c9b2",
       "version_major": 2,
       "version_minor": 0
      },
      "text/plain": [
       "interactive(children=(IntSlider(value=0, continuous_update=False, description='idx', max=197), Output()), _dom…"
      ]
     },
     "metadata": {},
     "output_type": "display_data"
    }
   ],
   "source": [
    "slice3d(\n",
    "    np.clip(image, 0, 80)+left_eye*100,\n",
    "    left_eye+right_eye\n",
    ")"
   ]
  },
  {
   "cell_type": "code",
   "execution_count": null,
   "id": "ae42782a",
   "metadata": {},
   "outputs": [],
   "source": []
  },
  {
   "cell_type": "code",
   "execution_count": null,
   "id": "4dae60fc",
   "metadata": {},
   "outputs": [],
   "source": []
  },
  {
   "cell_type": "code",
   "execution_count": 25,
   "id": "9e86c54b",
   "metadata": {},
   "outputs": [
    {
     "data": {
      "application/vnd.jupyter.widget-view+json": {
       "model_id": "991d6db25e2a45f48bda60f323b4ed8d",
       "version_major": 2,
       "version_minor": 0
      },
      "text/plain": [
       "interactive(children=(IntSlider(value=0, continuous_update=False, description='idx', max=197), Output()), _dom…"
      ]
     },
     "metadata": {},
     "output_type": "display_data"
    }
   ],
   "source": [
    "slice3d(\n",
    "    np.clip(image, 0, 80)+gtv_mask*100,\n",
    "    np.clip(image, 0, 80)\n",
    ")"
   ]
  },
  {
   "cell_type": "code",
   "execution_count": 31,
   "id": "3f3e44e1",
   "metadata": {},
   "outputs": [
    {
     "data": {
      "application/vnd.jupyter.widget-view+json": {
       "model_id": "5ca67e1652bf4ad58242e441863e225e",
       "version_major": 2,
       "version_minor": 0
      },
      "text/plain": [
       "interactive(children=(IntSlider(value=0, continuous_update=False, description='idx', max=149), Output()), _dom…"
      ]
     },
     "metadata": {},
     "output_type": "display_data"
    }
   ],
   "source": [
    "slice3d(image_mri)"
   ]
  },
  {
   "cell_type": "code",
   "execution_count": null,
   "id": "8b495145",
   "metadata": {},
   "outputs": [],
   "source": []
  },
  {
   "cell_type": "markdown",
   "id": "80dbda96",
   "metadata": {},
   "source": [
    "# Save masks as DICOMs\n",
    "\n",
    "You can already save images and masks as numpy arrays and do your Deep Learning magic, but if you want to use NIFTI format, you will need to first save masks to DICOMs and then run `dcm2niix` on these DICOMs.\n",
    "\n",
    "There is probably a better way to do this (save masks and images in nifti-s), however back in a days I did not figure how to save masks to niftis to align with the results of `dcm2niix` (ran on images) hence, this crutch proposed by Talgat Saparov."
   ]
  },
  {
   "cell_type": "code",
   "execution_count": 26,
   "id": "6bd3f7d9",
   "metadata": {},
   "outputs": [],
   "source": [
    "def mask_to_dicom(series, mask, folder):\n",
    "    \"\"\"Writes three-dimensional binary mask to series of reference DICOM files and save them to folder.\"\"\"\n",
    "    dtype = series[0].pixel_array.dtype\n",
    "    for frame, m2 in zip(series, np.moveaxis(mask, 2, 0)):\n",
    "        byte_mask = m2.astype(dtype).tobytes()\n",
    "        uid = frame.SOPInstanceUID\n",
    "        if len(byte_mask) % 2 != 0:\n",
    "            byte_mask += b'\\x00'\n",
    "        frame.PixelData = byte_mask\n",
    "        frame.save_as(folder / f'{uid}.dcm')"
   ]
  },
  {
   "cell_type": "code",
   "execution_count": null,
   "id": "509974b2",
   "metadata": {},
   "outputs": [],
   "source": []
  }
 ],
 "metadata": {
  "kernelspec": {
   "display_name": "Python 3 (ipykernel)",
   "language": "python",
   "name": "python3"
  },
  "language_info": {
   "codemirror_mode": {
    "name": "ipython",
    "version": 3
   },
   "file_extension": ".py",
   "mimetype": "text/x-python",
   "name": "python",
   "nbconvert_exporter": "python",
   "pygments_lexer": "ipython3",
   "version": "3.11.3"
  }
 },
 "nbformat": 4,
 "nbformat_minor": 5
}
